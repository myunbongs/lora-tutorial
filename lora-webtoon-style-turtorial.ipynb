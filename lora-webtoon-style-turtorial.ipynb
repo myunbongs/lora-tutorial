{
 "cells": [
  {
   "attachments": {},
   "cell_type": "markdown",
   "metadata": {},
   "source": [
    "# Diffusion model fine turning with lora "
   ]
  },
  {
   "attachments": {},
   "cell_type": "markdown",
   "metadata": {},
   "source": [
    "✅ 네이버 웹툰 중 특정 웹툰의 얼굴 데이터셋을 학습시켜보자 \n",
    "<br />\n",
    "<br />\n",
    "🔗 lora github : https://github.com/cloneofsimo/lora\n",
    "<br />\n",
    "🔗 dataset github : https://github.com/bryandlee/naver-webtoon-data"
   ]
  },
  {
   "attachments": {},
   "cell_type": "markdown",
   "metadata": {},
   "source": [
    "## 1. 환경 설정"
   ]
  },
  {
   "attachments": {},
   "cell_type": "markdown",
   "metadata": {},
   "source": [
    "※ 우렁이 기준"
   ]
  },
  {
   "cell_type": "code",
   "execution_count": null,
   "metadata": {},
   "outputs": [],
   "source": [
    "% conda create -n lora python=3.8\n",
    "% conda activate lora\n",
    "% git clone https://github.com/cloneofsimo/lora.git && sed -i 's/functools.cache/functools.lru_cache(maxsize=None)/g' ./lora/lora_diffusion/xformers_utils.py && pip install ./lora\n",
    "% pip install accelerate bitsandbytes-cuda114"
   ]
  },
  {
   "attachments": {},
   "cell_type": "markdown",
   "metadata": {},
   "source": [
    "## 2. 데이터셋 생성 "
   ]
  },
  {
   "attachments": {},
   "cell_type": "markdown",
   "metadata": {},
   "source": [
    "✅ title id는 [dataset github](https://github.com/bryandlee/naver-webtoon-data) 참고 \n",
    "<br />\n",
    "``` python download_faces.py --titles [title ids to download] ```"
   ]
  },
  {
   "cell_type": "code",
   "execution_count": null,
   "metadata": {},
   "outputs": [],
   "source": [
    "% git clone https://github.com/bryandlee/naver-webtoon-data.git\n",
    "% python ./naver-webtoon-data/download_faces.py --titles 103759 "
   ]
  },
  {
   "attachments": {},
   "cell_type": "markdown",
   "metadata": {},
   "source": [
    "## 3. 학습하기\n",
    "🚨 스타일 학습 스크립트 수정 \n",
    "<br />\n",
    "_./lora/training_scripts/multivector_example.sh_\n",
    "<br />\n",
    "```\n",
    "export MODEL_NAME=\"runwayml/stable-diffusion-v1-5\"\n",
    "export INSTANCE_DIR=\"./naver-webtoon-data/faces/103759\"\n",
    "export OUTPUT_DIR=\"./exps/imalryon\"\n",
    "...\n",
    "--placeholder_tokens=\"imalryon\" \n",
    "```"
   ]
  },
  {
   "cell_type": "code",
   "execution_count": null,
   "metadata": {},
   "outputs": [],
   "source": [
    "% sh ./lora/training_scripts/multivector_example.sh"
   ]
  },
  {
   "attachments": {},
   "cell_type": "markdown",
   "metadata": {},
   "source": [
    "## 4. infrence 하기 "
   ]
  },
  {
   "attachments": {},
   "cell_type": "markdown",
   "metadata": {},
   "source": [
    "### 4-1. prompt 기반 이미지 생성 (text2img)\n",
    "1️⃣ 기존 diffusion model로 생성하기 "
   ]
  },
  {
   "attachments": {},
   "cell_type": "markdown",
   "metadata": {},
   "source": [
    "2️⃣ fine turning한 diffusion model으로 생성하기\n",
    "<br />\n",
    "<br />\n",
    "🚨 `3. 학습하기`의 `OUTPUT_DIR` 경로로 checkpoint 경로 수정 및 `placeholder_tokens` 설정 값으로 prompt 내 `style of <s1><s2>` 부분 수정 "
   ]
  },
  {
   "cell_type": "code",
   "execution_count": null,
   "metadata": {},
   "outputs": [],
   "source": [
    "from lora.lora_diffusion import tune_lora_scale, patch_pipe\n",
    "\n",
    "# checkpoint 경로 수정 \n",
    "patch_pipe(\n",
    "    pipe,\n",
    "    \"./exps/imalryon\",\n",
    "    patch_text=True,\n",
    "    patch_ti=True,\n",
    "    patch_unet=True,\n",
    ")\n",
    "\n",
    "# 입맛에 맞게 scale 조정 \n",
    "tune_lora_scale(pipe.unet, 0.20)\n",
    "tune_lora_scale(pipe.text_encoder, 1.00)\n",
    "\n",
    "prompt = \"style of imalryon, hello kitty face\"\n",
    "\n",
    "torch.manual_seed(0)\n",
    "image = pipe(prompt, num_inference_steps=50, guidance_scale=7).images[0]\n",
    "image.save(\"./inference/lora-test.jpg\")\n",
    "image"
   ]
  },
  {
   "attachments": {},
   "cell_type": "markdown",
   "metadata": {},
   "source": [
    "### 4-2 img를 가이드라인으로 주면서 생성하기 (img&prt2img)"
   ]
  },
  {
   "attachments": {},
   "cell_type": "markdown",
   "metadata": {},
   "source": [
    "1️⃣ 기존 diffusion model로 생성하기 \n",
    "<br />\n",
    "<br />\n",
    "✅ [프롬포트 제네레이터](https://huggingface.co/spaces/doevent/prompt-generator) 이용하면 편해요!"
   ]
  },
  {
   "cell_type": "code",
   "execution_count": null,
   "metadata": {},
   "outputs": [],
   "source": [
    "from diffusers import StableDiffusionImg2ImgPipeline\n",
    "import torch\n",
    "from PIL import Image\n",
    "\n",
    "# 가이드라인으로 주고 싶은 원하는 이미지 경로 설정 \n",
    "init_image = Image.open(\"./lora/contents/lora_just_unet.jpg\").convert(\"RGB\").resize((512, 512))\n",
    "\n",
    "model_id = \"runwayml/stable-diffusion-v1-5\"\n",
    "\n",
    "pipe = StableDiffusionImg2ImgPipeline.from_pretrained(model_id, torch_dtype=torch.float16).to(\n",
    "    \"cuda\"\n",
    ")\n",
    "\n",
    "# 프롬포트 설정\n",
    "prompt = \"style of <s1><s2>, a woman with long, straight hair and bangs, detailed \"\n",
    "negative_prompt = 'deformed, ugly, mutilated, disfigured, text, extra limbs, face cut, head cut, extra fingers, extra arms, mutation, bad proportions, cropped head, malformed limbs, mutated hands, fused fingers, long neck'\n",
    "\n",
    "torch.manual_seed(1)\n",
    "image = pipe(prompt=prompt, negative_prompt=negative_prompt, image=init_image, strength=0.75, guidance_scale=7.5).images[0]\n",
    "\n",
    "image"
   ]
  },
  {
   "attachments": {},
   "cell_type": "markdown",
   "metadata": {},
   "source": [
    "2️⃣ fine turning한 diffusion model으로 생성하기 "
   ]
  },
  {
   "cell_type": "code",
   "execution_count": null,
   "metadata": {},
   "outputs": [],
   "source": [
    "from lora.lora_diffusion import patch_pipe, tune_lora_scale\n",
    "\n",
    "patch_pipe(pipe, \"./exps/imalryon/final_lora.safetensors\", patch_text=True, patch_unet=True, patch_ti=True)\n",
    "\n",
    "# 입맛에 맞게 scale 조정\n",
    "tune_lora_scale(pipe.unet, 0.0)\n",
    "tune_lora_scale(pipe.text_encoder, 0.0)\n",
    "\n",
    "prompt = \"style of imalryon, a woman with long, straight hair and bangs, detailed\"\n",
    "negative_prompt = 'deformed, ugly, mutilated, disfigured, text, extra limbs, face cut, head cut, extra fingers, extra arms, mutation, bad proportions, cropped head, malformed limbs, mutated hands, fused fingers, long neck'\n",
    "\n",
    "torch.manual_seed(1)\n",
    "image = pipe(prompt=prompt, negative_prompt=negative_prompt, image=init_image, strength=0.75, guidance_scale=7.5).images[0]\n",
    "\n",
    "image"
   ]
  }
 ],
 "metadata": {
  "language_info": {
   "name": "python"
  },
  "orig_nbformat": 4
 },
 "nbformat": 4,
 "nbformat_minor": 2
}
